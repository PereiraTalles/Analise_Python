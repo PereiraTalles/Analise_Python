{
 "cells": [
  {
   "cell_type": "markdown",
   "id": "90db72fe",
   "metadata": {},
   "source": [
    "# Trabalho de Python"
   ]
  },
  {
   "cell_type": "markdown",
   "id": "93bb69fe",
   "metadata": {},
   "source": [
    "### Imports:"
   ]
  },
  {
   "cell_type": "code",
   "execution_count": 1,
   "id": "b7427548",
   "metadata": {},
   "outputs": [],
   "source": [
    "# Pandas é evidente para que serve\n",
    "import pandas as pd"
   ]
  },
  {
   "cell_type": "code",
   "execution_count": 2,
   "id": "a93e227a",
   "metadata": {},
   "outputs": [],
   "source": [
    "# Chardet para verificar o encoding, só isso.\n",
    "import chardet"
   ]
  },
  {
   "cell_type": "code",
   "execution_count": 3,
   "id": "741d5f62",
   "metadata": {},
   "outputs": [],
   "source": [
    "import openpyxl"
   ]
  },
  {
   "cell_type": "code",
   "execution_count": 4,
   "id": "ba381349",
   "metadata": {},
   "outputs": [],
   "source": [
    "import re"
   ]
  },
  {
   "cell_type": "markdown",
   "id": "15f4b087",
   "metadata": {},
   "source": [
    "### Encoding"
   ]
  },
  {
   "cell_type": "code",
   "execution_count": 5,
   "id": "3768410d",
   "metadata": {},
   "outputs": [
    {
     "name": "stdout",
     "output_type": "stream",
     "text": [
      "Encoding do arquivo vendas_bike_2017.csv: ascii\n",
      "Encoding do arquivo vendas_bike_2018.csv: ascii\n",
      "Encoding do arquivo vendas_bike_2019.csv: utf-8\n",
      "Encoding do arquivo vendas_bike_2020.csv: utf-8\n"
     ]
    }
   ],
   "source": [
    "# Lista dos arquivos CSV\n",
    "arquivos_csv = [\"vendas_bike_2017.csv\", \"vendas_bike_2018.csv\" , \"vendas_bike_2019.csv\", \"vendas_bike_2020.csv\"]\n",
    "\n",
    "# Verificando o encoding de cada arquivo\n",
    "for arquivo in arquivos_csv:\n",
    "    with open(arquivo, 'rb') as a:\n",
    "        result = chardet.detect(a.read())\n",
    "\n",
    "    # Exibindo a codificação detectada para cada arquivo\n",
    "    print(f\"Encoding do arquivo {arquivo}: {result['encoding']}\")"
   ]
  },
  {
   "cell_type": "code",
   "execution_count": 6,
   "id": "4cf7efe9",
   "metadata": {},
   "outputs": [],
   "source": [
    "df_2017 = pd.read_csv('vendas_bike_2017.csv', encoding='ascii', sep=';')\n",
    "df_2018 = pd.read_csv('vendas_bike_2018.csv', encoding='ascii', sep=';')\n",
    "df_2019 = pd.read_csv('vendas_bike_2019.csv', encoding='utf-8', sep=';')\n",
    "df_2020 = pd.read_csv('vendas_bike_2020.csv', encoding='utf-8', sep=';')"
   ]
  },
  {
   "cell_type": "markdown",
   "id": "298a6eda",
   "metadata": {},
   "source": [
    "### Shapes e infos"
   ]
  },
  {
   "cell_type": "code",
   "execution_count": 7,
   "id": "feb3f963",
   "metadata": {},
   "outputs": [
    {
     "data": {
      "text/plain": [
       "(170, 10)"
      ]
     },
     "execution_count": 7,
     "metadata": {},
     "output_type": "execute_result"
    }
   ],
   "source": [
    "df_2017.shape"
   ]
  },
  {
   "cell_type": "code",
   "execution_count": 8,
   "id": "52a8595a",
   "metadata": {},
   "outputs": [
    {
     "name": "stdout",
     "output_type": "stream",
     "text": [
      "<class 'pandas.core.frame.DataFrame'>\n",
      "RangeIndex: 170 entries, 0 to 169\n",
      "Data columns (total 10 columns):\n",
      " #   Column              Non-Null Count  Dtype  \n",
      "---  ------              --------------  -----  \n",
      " 0   Categoria           170 non-null    object \n",
      " 1   ID_Subcategoria     170 non-null    float64\n",
      " 2   ID_Modelo           170 non-null    float64\n",
      " 3   Cor                 170 non-null    object \n",
      " 4   UF                  170 non-null    object \n",
      " 5   ID_Cidade           170 non-null    float64\n",
      " 6   ID_Regiao           170 non-null    float64\n",
      " 7   Quantidade Vendida  170 non-null    int64  \n",
      " 8   Total Venda         170 non-null    float64\n",
      " 9   Data Venda          170 non-null    object \n",
      "dtypes: float64(5), int64(1), object(4)\n",
      "memory usage: 13.4+ KB\n"
     ]
    }
   ],
   "source": [
    "df_2017.info()"
   ]
  },
  {
   "cell_type": "code",
   "execution_count": 9,
   "id": "72a4571f",
   "metadata": {},
   "outputs": [
    {
     "data": {
      "text/plain": [
       "(175, 10)"
      ]
     },
     "execution_count": 9,
     "metadata": {},
     "output_type": "execute_result"
    }
   ],
   "source": [
    "df_2018.shape"
   ]
  },
  {
   "cell_type": "code",
   "execution_count": 10,
   "id": "a5cbb48d",
   "metadata": {},
   "outputs": [
    {
     "name": "stdout",
     "output_type": "stream",
     "text": [
      "<class 'pandas.core.frame.DataFrame'>\n",
      "RangeIndex: 175 entries, 0 to 174\n",
      "Data columns (total 10 columns):\n",
      " #   Column              Non-Null Count  Dtype  \n",
      "---  ------              --------------  -----  \n",
      " 0   Categoria           175 non-null    object \n",
      " 1   ID_Subcategoria     175 non-null    float64\n",
      " 2   ID_Modelo           175 non-null    float64\n",
      " 3   Cor                 175 non-null    object \n",
      " 4   UF                  175 non-null    object \n",
      " 5   ID_Cidade           175 non-null    float64\n",
      " 6   ID_Regiao           175 non-null    float64\n",
      " 7   Quantidade Vendida  175 non-null    int64  \n",
      " 8   Total Venda         175 non-null    float64\n",
      " 9   Data Venda          175 non-null    object \n",
      "dtypes: float64(5), int64(1), object(4)\n",
      "memory usage: 13.8+ KB\n"
     ]
    }
   ],
   "source": [
    "df_2018.info()"
   ]
  },
  {
   "cell_type": "code",
   "execution_count": 11,
   "id": "0da95411",
   "metadata": {},
   "outputs": [
    {
     "data": {
      "text/plain": [
       "(391, 10)"
      ]
     },
     "execution_count": 11,
     "metadata": {},
     "output_type": "execute_result"
    }
   ],
   "source": [
    "df_2019.shape"
   ]
  },
  {
   "cell_type": "code",
   "execution_count": 12,
   "id": "344907b3",
   "metadata": {},
   "outputs": [
    {
     "name": "stdout",
     "output_type": "stream",
     "text": [
      "<class 'pandas.core.frame.DataFrame'>\n",
      "RangeIndex: 391 entries, 0 to 390\n",
      "Data columns (total 10 columns):\n",
      " #   Column              Non-Null Count  Dtype  \n",
      "---  ------              --------------  -----  \n",
      " 0   Categoria           391 non-null    object \n",
      " 1   ID_Subcategoria     391 non-null    float64\n",
      " 2   ID_Modelo           391 non-null    float64\n",
      " 3   Cor                 262 non-null    object \n",
      " 4   UF                  391 non-null    object \n",
      " 5   ID_Cidade           391 non-null    float64\n",
      " 6   ID_Regiao           391 non-null    float64\n",
      " 7   Quantidade Vendida  391 non-null    int64  \n",
      " 8   Total Venda         391 non-null    float64\n",
      " 9   Data Venda          391 non-null    object \n",
      "dtypes: float64(5), int64(1), object(4)\n",
      "memory usage: 30.7+ KB\n"
     ]
    }
   ],
   "source": [
    "df_2019.info()"
   ]
  },
  {
   "cell_type": "code",
   "execution_count": 13,
   "id": "7b42b669",
   "metadata": {},
   "outputs": [
    {
     "data": {
      "text/plain": [
       "(264, 10)"
      ]
     },
     "execution_count": 13,
     "metadata": {},
     "output_type": "execute_result"
    }
   ],
   "source": [
    "df_2020.shape"
   ]
  },
  {
   "cell_type": "code",
   "execution_count": 14,
   "id": "81b71a1f",
   "metadata": {},
   "outputs": [
    {
     "name": "stdout",
     "output_type": "stream",
     "text": [
      "<class 'pandas.core.frame.DataFrame'>\n",
      "RangeIndex: 264 entries, 0 to 263\n",
      "Data columns (total 10 columns):\n",
      " #   Column              Non-Null Count  Dtype  \n",
      "---  ------              --------------  -----  \n",
      " 0   Categoria           264 non-null    object \n",
      " 1   ID_Subcategoria     264 non-null    float64\n",
      " 2   ID_Modelo           264 non-null    float64\n",
      " 3   Cor                 157 non-null    object \n",
      " 4   UF                  264 non-null    object \n",
      " 5   ID_Cidade           264 non-null    float64\n",
      " 6   ID_Regiao           264 non-null    float64\n",
      " 7   Quantidade Vendida  264 non-null    int64  \n",
      " 8   Total Venda         264 non-null    float64\n",
      " 9   Data Venda          264 non-null    object \n",
      "dtypes: float64(5), int64(1), object(4)\n",
      "memory usage: 20.8+ KB\n"
     ]
    }
   ],
   "source": [
    "df_2020.info()"
   ]
  },
  {
   "cell_type": "markdown",
   "id": "da3f3b1a",
   "metadata": {},
   "source": [
    "### Juntando as Tabelas e verificando com shape e info"
   ]
  },
  {
   "cell_type": "code",
   "execution_count": 15,
   "id": "b2333bf0",
   "metadata": {},
   "outputs": [],
   "source": [
    "df_juntas = pd.concat([df_2017, df_2018, df_2019, df_2020], ignore_index=True)"
   ]
  },
  {
   "cell_type": "code",
   "execution_count": 16,
   "id": "2d12656b",
   "metadata": {},
   "outputs": [
    {
     "data": {
      "text/plain": [
       "(1000, 10)"
      ]
     },
     "execution_count": 16,
     "metadata": {},
     "output_type": "execute_result"
    }
   ],
   "source": [
    "df_juntas.shape"
   ]
  },
  {
   "cell_type": "code",
   "execution_count": 17,
   "id": "96b3ed21",
   "metadata": {},
   "outputs": [
    {
     "name": "stdout",
     "output_type": "stream",
     "text": [
      "<class 'pandas.core.frame.DataFrame'>\n",
      "RangeIndex: 1000 entries, 0 to 999\n",
      "Data columns (total 10 columns):\n",
      " #   Column              Non-Null Count  Dtype  \n",
      "---  ------              --------------  -----  \n",
      " 0   Categoria           1000 non-null   object \n",
      " 1   ID_Subcategoria     1000 non-null   float64\n",
      " 2   ID_Modelo           1000 non-null   float64\n",
      " 3   Cor                 764 non-null    object \n",
      " 4   UF                  1000 non-null   object \n",
      " 5   ID_Cidade           1000 non-null   float64\n",
      " 6   ID_Regiao           1000 non-null   float64\n",
      " 7   Quantidade Vendida  1000 non-null   int64  \n",
      " 8   Total Venda         1000 non-null   float64\n",
      " 9   Data Venda          1000 non-null   object \n",
      "dtypes: float64(5), int64(1), object(4)\n",
      "memory usage: 78.3+ KB\n"
     ]
    }
   ],
   "source": [
    "df_juntas.info()"
   ]
  },
  {
   "cell_type": "markdown",
   "id": "bb511caa",
   "metadata": {},
   "source": [
    "### <p style=\"color:red;\">⚠️ Ainda preciso tratar esses dados: há valores nulos e os tipos estão incorretos.</p>\n"
   ]
  },
  {
   "cell_type": "markdown",
   "id": "0241ba75",
   "metadata": {},
   "source": [
    "o que pergunta para prof:\n",
    "sobre os nulos\n",
    "data mudar \n",
    "nomes mudar"
   ]
  },
  {
   "cell_type": "markdown",
   "id": "dd989cf7",
   "metadata": {},
   "source": [
    "### Abrindo os Excel"
   ]
  },
  {
   "cell_type": "code",
   "execution_count": 18,
   "id": "702fc5b4",
   "metadata": {},
   "outputs": [],
   "source": [
    "df_cidade = pd.read_excel('cidade.xlsx')"
   ]
  },
  {
   "cell_type": "code",
   "execution_count": 19,
   "id": "ee780794",
   "metadata": {},
   "outputs": [
    {
     "name": "stdout",
     "output_type": "stream",
     "text": [
      "<class 'pandas.core.frame.DataFrame'>\n",
      "RangeIndex: 1000 entries, 0 to 999\n",
      "Data columns (total 2 columns):\n",
      " #   Column  Non-Null Count  Dtype \n",
      "---  ------  --------------  ----- \n",
      " 0   ID      1000 non-null   int64 \n",
      " 1   Cidade  1000 non-null   object\n",
      "dtypes: int64(1), object(1)\n",
      "memory usage: 15.8+ KB\n"
     ]
    }
   ],
   "source": [
    "df_cidade.info()"
   ]
  },
  {
   "cell_type": "code",
   "execution_count": 20,
   "id": "12ac168b",
   "metadata": {},
   "outputs": [
    {
     "data": {
      "text/html": [
       "<div>\n",
       "<style scoped>\n",
       "    .dataframe tbody tr th:only-of-type {\n",
       "        vertical-align: middle;\n",
       "    }\n",
       "\n",
       "    .dataframe tbody tr th {\n",
       "        vertical-align: top;\n",
       "    }\n",
       "\n",
       "    .dataframe thead th {\n",
       "        text-align: right;\n",
       "    }\n",
       "</style>\n",
       "<table border=\"1\" class=\"dataframe\">\n",
       "  <thead>\n",
       "    <tr style=\"text-align: right;\">\n",
       "      <th></th>\n",
       "      <th>ID</th>\n",
       "      <th>Cidade</th>\n",
       "    </tr>\n",
       "  </thead>\n",
       "  <tbody>\n",
       "    <tr>\n",
       "      <th>0</th>\n",
       "      <td>1</td>\n",
       "      <td>Passagem</td>\n",
       "    </tr>\n",
       "    <tr>\n",
       "      <th>1</th>\n",
       "      <td>2</td>\n",
       "      <td>Córrego Fundo</td>\n",
       "    </tr>\n",
       "    <tr>\n",
       "      <th>2</th>\n",
       "      <td>3</td>\n",
       "      <td>Quebrangulo</td>\n",
       "    </tr>\n",
       "    <tr>\n",
       "      <th>3</th>\n",
       "      <td>4</td>\n",
       "      <td>Varjota</td>\n",
       "    </tr>\n",
       "    <tr>\n",
       "      <th>4</th>\n",
       "      <td>5</td>\n",
       "      <td>Jucurutu</td>\n",
       "    </tr>\n",
       "  </tbody>\n",
       "</table>\n",
       "</div>"
      ],
      "text/plain": [
       "   ID         Cidade\n",
       "0   1       Passagem\n",
       "1   2  Córrego Fundo\n",
       "2   3    Quebrangulo\n",
       "3   4        Varjota\n",
       "4   5       Jucurutu"
      ]
     },
     "execution_count": 20,
     "metadata": {},
     "output_type": "execute_result"
    }
   ],
   "source": [
    "df_cidade.head()"
   ]
  },
  {
   "cell_type": "code",
   "execution_count": 21,
   "id": "f1d595a8",
   "metadata": {},
   "outputs": [],
   "source": [
    "df_estado = pd.read_excel('estado.xlsx')"
   ]
  },
  {
   "cell_type": "code",
   "execution_count": 22,
   "id": "abffe326",
   "metadata": {},
   "outputs": [
    {
     "name": "stdout",
     "output_type": "stream",
     "text": [
      "<class 'pandas.core.frame.DataFrame'>\n",
      "RangeIndex: 27 entries, 0 to 26\n",
      "Data columns (total 2 columns):\n",
      " #   Column  Non-Null Count  Dtype \n",
      "---  ------  --------------  ----- \n",
      " 0   Estado  27 non-null     object\n",
      " 1   Sigla   27 non-null     object\n",
      "dtypes: object(2)\n",
      "memory usage: 564.0+ bytes\n"
     ]
    }
   ],
   "source": [
    "df_estado.info()"
   ]
  },
  {
   "cell_type": "code",
   "execution_count": 23,
   "id": "ea3087f4",
   "metadata": {},
   "outputs": [
    {
     "data": {
      "text/html": [
       "<div>\n",
       "<style scoped>\n",
       "    .dataframe tbody tr th:only-of-type {\n",
       "        vertical-align: middle;\n",
       "    }\n",
       "\n",
       "    .dataframe tbody tr th {\n",
       "        vertical-align: top;\n",
       "    }\n",
       "\n",
       "    .dataframe thead th {\n",
       "        text-align: right;\n",
       "    }\n",
       "</style>\n",
       "<table border=\"1\" class=\"dataframe\">\n",
       "  <thead>\n",
       "    <tr style=\"text-align: right;\">\n",
       "      <th></th>\n",
       "      <th>Estado</th>\n",
       "      <th>Sigla</th>\n",
       "    </tr>\n",
       "  </thead>\n",
       "  <tbody>\n",
       "    <tr>\n",
       "      <th>0</th>\n",
       "      <td>Paraíba</td>\n",
       "      <td>PB</td>\n",
       "    </tr>\n",
       "    <tr>\n",
       "      <th>1</th>\n",
       "      <td>Minas Gerais</td>\n",
       "      <td>MG</td>\n",
       "    </tr>\n",
       "    <tr>\n",
       "      <th>2</th>\n",
       "      <td>Alagoas</td>\n",
       "      <td>AL</td>\n",
       "    </tr>\n",
       "    <tr>\n",
       "      <th>3</th>\n",
       "      <td>Ceará</td>\n",
       "      <td>CE</td>\n",
       "    </tr>\n",
       "    <tr>\n",
       "      <th>4</th>\n",
       "      <td>Rio Grande do Norte</td>\n",
       "      <td>RN</td>\n",
       "    </tr>\n",
       "  </tbody>\n",
       "</table>\n",
       "</div>"
      ],
      "text/plain": [
       "                Estado Sigla\n",
       "0              Paraíba    PB\n",
       "1         Minas Gerais    MG\n",
       "2              Alagoas    AL\n",
       "3                Ceará    CE\n",
       "4  Rio Grande do Norte    RN"
      ]
     },
     "execution_count": 23,
     "metadata": {},
     "output_type": "execute_result"
    }
   ],
   "source": [
    "df_estado.head()"
   ]
  },
  {
   "cell_type": "code",
   "execution_count": 24,
   "id": "40e71a2d",
   "metadata": {},
   "outputs": [],
   "source": [
    "df_modelo = pd.read_excel(\"modelo.xlsx\")"
   ]
  },
  {
   "cell_type": "code",
   "execution_count": 25,
   "id": "b7c04d60",
   "metadata": {},
   "outputs": [
    {
     "name": "stdout",
     "output_type": "stream",
     "text": [
      "<class 'pandas.core.frame.DataFrame'>\n",
      "RangeIndex: 70 entries, 0 to 69\n",
      "Data columns (total 2 columns):\n",
      " #   Column  Non-Null Count  Dtype \n",
      "---  ------  --------------  ----- \n",
      " 0   ID      70 non-null     int64 \n",
      " 1   Modelo  70 non-null     object\n",
      "dtypes: int64(1), object(1)\n",
      "memory usage: 1.2+ KB\n"
     ]
    }
   ],
   "source": [
    "df_modelo.info()"
   ]
  },
  {
   "cell_type": "code",
   "execution_count": 26,
   "id": "42ab4036",
   "metadata": {},
   "outputs": [
    {
     "data": {
      "text/html": [
       "<div>\n",
       "<style scoped>\n",
       "    .dataframe tbody tr th:only-of-type {\n",
       "        vertical-align: middle;\n",
       "    }\n",
       "\n",
       "    .dataframe tbody tr th {\n",
       "        vertical-align: top;\n",
       "    }\n",
       "\n",
       "    .dataframe thead th {\n",
       "        text-align: right;\n",
       "    }\n",
       "</style>\n",
       "<table border=\"1\" class=\"dataframe\">\n",
       "  <thead>\n",
       "    <tr style=\"text-align: right;\">\n",
       "      <th></th>\n",
       "      <th>ID</th>\n",
       "      <th>Modelo</th>\n",
       "    </tr>\n",
       "  </thead>\n",
       "  <tbody>\n",
       "    <tr>\n",
       "      <th>0</th>\n",
       "      <td>1</td>\n",
       "      <td>Mountain-100</td>\n",
       "    </tr>\n",
       "    <tr>\n",
       "      <th>1</th>\n",
       "      <td>2</td>\n",
       "      <td>Road-150</td>\n",
       "    </tr>\n",
       "    <tr>\n",
       "      <th>2</th>\n",
       "      <td>3</td>\n",
       "      <td>Road-650</td>\n",
       "    </tr>\n",
       "    <tr>\n",
       "      <th>3</th>\n",
       "      <td>4</td>\n",
       "      <td>Mountain-200</td>\n",
       "    </tr>\n",
       "    <tr>\n",
       "      <th>4</th>\n",
       "      <td>5</td>\n",
       "      <td>Road-250</td>\n",
       "    </tr>\n",
       "  </tbody>\n",
       "</table>\n",
       "</div>"
      ],
      "text/plain": [
       "   ID        Modelo\n",
       "0   1  Mountain-100\n",
       "1   2      Road-150\n",
       "2   3      Road-650\n",
       "3   4  Mountain-200\n",
       "4   5      Road-250"
      ]
     },
     "execution_count": 26,
     "metadata": {},
     "output_type": "execute_result"
    }
   ],
   "source": [
    "df_modelo.head()"
   ]
  },
  {
   "cell_type": "code",
   "execution_count": 27,
   "id": "6d625e75",
   "metadata": {},
   "outputs": [],
   "source": [
    "df_regiao = pd.read_excel(\"regiao.xlsx\")"
   ]
  },
  {
   "cell_type": "code",
   "execution_count": 28,
   "id": "d3ef59df",
   "metadata": {},
   "outputs": [
    {
     "name": "stdout",
     "output_type": "stream",
     "text": [
      "<class 'pandas.core.frame.DataFrame'>\n",
      "RangeIndex: 5 entries, 0 to 4\n",
      "Data columns (total 2 columns):\n",
      " #   Column  Non-Null Count  Dtype \n",
      "---  ------  --------------  ----- \n",
      " 0   ID      5 non-null      int64 \n",
      " 1   Região  5 non-null      object\n",
      "dtypes: int64(1), object(1)\n",
      "memory usage: 212.0+ bytes\n"
     ]
    }
   ],
   "source": [
    "df_regiao.info()"
   ]
  },
  {
   "cell_type": "code",
   "execution_count": 29,
   "id": "6bf33b36",
   "metadata": {},
   "outputs": [
    {
     "data": {
      "text/html": [
       "<div>\n",
       "<style scoped>\n",
       "    .dataframe tbody tr th:only-of-type {\n",
       "        vertical-align: middle;\n",
       "    }\n",
       "\n",
       "    .dataframe tbody tr th {\n",
       "        vertical-align: top;\n",
       "    }\n",
       "\n",
       "    .dataframe thead th {\n",
       "        text-align: right;\n",
       "    }\n",
       "</style>\n",
       "<table border=\"1\" class=\"dataframe\">\n",
       "  <thead>\n",
       "    <tr style=\"text-align: right;\">\n",
       "      <th></th>\n",
       "      <th>ID</th>\n",
       "      <th>Região</th>\n",
       "    </tr>\n",
       "  </thead>\n",
       "  <tbody>\n",
       "    <tr>\n",
       "      <th>0</th>\n",
       "      <td>1</td>\n",
       "      <td>Nordeste</td>\n",
       "    </tr>\n",
       "    <tr>\n",
       "      <th>1</th>\n",
       "      <td>2</td>\n",
       "      <td>Sudeste</td>\n",
       "    </tr>\n",
       "    <tr>\n",
       "      <th>2</th>\n",
       "      <td>3</td>\n",
       "      <td>Norte</td>\n",
       "    </tr>\n",
       "    <tr>\n",
       "      <th>3</th>\n",
       "      <td>4</td>\n",
       "      <td>Centro-Oeste</td>\n",
       "    </tr>\n",
       "    <tr>\n",
       "      <th>4</th>\n",
       "      <td>5</td>\n",
       "      <td>Sul</td>\n",
       "    </tr>\n",
       "  </tbody>\n",
       "</table>\n",
       "</div>"
      ],
      "text/plain": [
       "   ID        Região\n",
       "0   1      Nordeste\n",
       "1   2       Sudeste\n",
       "2   3         Norte\n",
       "3   4  Centro-Oeste\n",
       "4   5           Sul"
      ]
     },
     "execution_count": 29,
     "metadata": {},
     "output_type": "execute_result"
    }
   ],
   "source": [
    "df_regiao"
   ]
  },
  {
   "cell_type": "code",
   "execution_count": 30,
   "id": "2f226a66",
   "metadata": {},
   "outputs": [],
   "source": [
    "df_subcategorias = pd.read_excel(\"subcategorias.xlsx\")"
   ]
  },
  {
   "cell_type": "code",
   "execution_count": 31,
   "id": "743e3895",
   "metadata": {},
   "outputs": [
    {
     "name": "stdout",
     "output_type": "stream",
     "text": [
      "<class 'pandas.core.frame.DataFrame'>\n",
      "RangeIndex: 28 entries, 0 to 27\n",
      "Data columns (total 2 columns):\n",
      " #   Column        Non-Null Count  Dtype \n",
      "---  ------        --------------  ----- \n",
      " 0   ID            28 non-null     int64 \n",
      " 1   SubCategoria  28 non-null     object\n",
      "dtypes: int64(1), object(1)\n",
      "memory usage: 580.0+ bytes\n"
     ]
    }
   ],
   "source": [
    "df_subcategorias.info()"
   ]
  },
  {
   "cell_type": "code",
   "execution_count": 32,
   "id": "9fcf0523",
   "metadata": {},
   "outputs": [
    {
     "data": {
      "text/html": [
       "<div>\n",
       "<style scoped>\n",
       "    .dataframe tbody tr th:only-of-type {\n",
       "        vertical-align: middle;\n",
       "    }\n",
       "\n",
       "    .dataframe tbody tr th {\n",
       "        vertical-align: top;\n",
       "    }\n",
       "\n",
       "    .dataframe thead th {\n",
       "        text-align: right;\n",
       "    }\n",
       "</style>\n",
       "<table border=\"1\" class=\"dataframe\">\n",
       "  <thead>\n",
       "    <tr style=\"text-align: right;\">\n",
       "      <th></th>\n",
       "      <th>ID</th>\n",
       "      <th>SubCategoria</th>\n",
       "    </tr>\n",
       "  </thead>\n",
       "  <tbody>\n",
       "    <tr>\n",
       "      <th>0</th>\n",
       "      <td>1</td>\n",
       "      <td>Bicicletas de montanha</td>\n",
       "    </tr>\n",
       "    <tr>\n",
       "      <th>1</th>\n",
       "      <td>2</td>\n",
       "      <td>Bicicletas de estrada</td>\n",
       "    </tr>\n",
       "    <tr>\n",
       "      <th>2</th>\n",
       "      <td>3</td>\n",
       "      <td>Bicicletários</td>\n",
       "    </tr>\n",
       "    <tr>\n",
       "      <th>3</th>\n",
       "      <td>4</td>\n",
       "      <td>Garrafas e Gaiolas</td>\n",
       "    </tr>\n",
       "    <tr>\n",
       "      <th>4</th>\n",
       "      <td>5</td>\n",
       "      <td>Pneus e Tubos</td>\n",
       "    </tr>\n",
       "  </tbody>\n",
       "</table>\n",
       "</div>"
      ],
      "text/plain": [
       "   ID            SubCategoria\n",
       "0   1  Bicicletas de montanha\n",
       "1   2   Bicicletas de estrada\n",
       "2   3           Bicicletários\n",
       "3   4      Garrafas e Gaiolas\n",
       "4   5           Pneus e Tubos"
      ]
     },
     "execution_count": 32,
     "metadata": {},
     "output_type": "execute_result"
    }
   ],
   "source": [
    "df_subcategorias.head()"
   ]
  },
  {
   "cell_type": "markdown",
   "id": "3779d0bf",
   "metadata": {},
   "source": [
    "### Tratando os nomes das colunas"
   ]
  },
  {
   "cell_type": "code",
   "execution_count": 33,
   "id": "4d315e70",
   "metadata": {},
   "outputs": [
    {
     "data": {
      "text/html": [
       "<div>\n",
       "<style scoped>\n",
       "    .dataframe tbody tr th:only-of-type {\n",
       "        vertical-align: middle;\n",
       "    }\n",
       "\n",
       "    .dataframe tbody tr th {\n",
       "        vertical-align: top;\n",
       "    }\n",
       "\n",
       "    .dataframe thead th {\n",
       "        text-align: right;\n",
       "    }\n",
       "</style>\n",
       "<table border=\"1\" class=\"dataframe\">\n",
       "  <thead>\n",
       "    <tr style=\"text-align: right;\">\n",
       "      <th></th>\n",
       "      <th>Categoria</th>\n",
       "      <th>ID_Subcategoria</th>\n",
       "      <th>ID_Modelo</th>\n",
       "      <th>Cor</th>\n",
       "      <th>UF</th>\n",
       "      <th>ID_Cidade</th>\n",
       "      <th>ID_Regiao</th>\n",
       "      <th>Quantidade Vendida</th>\n",
       "      <th>Total Venda</th>\n",
       "      <th>Data Venda</th>\n",
       "    </tr>\n",
       "  </thead>\n",
       "  <tbody>\n",
       "    <tr>\n",
       "      <th>0</th>\n",
       "      <td>Bicicletas</td>\n",
       "      <td>1.0</td>\n",
       "      <td>1.0</td>\n",
       "      <td>Prata</td>\n",
       "      <td>PB</td>\n",
       "      <td>1.0</td>\n",
       "      <td>1.0</td>\n",
       "      <td>2</td>\n",
       "      <td>6799.98</td>\n",
       "      <td>01/07/2017</td>\n",
       "    </tr>\n",
       "    <tr>\n",
       "      <th>1</th>\n",
       "      <td>Bicicletas</td>\n",
       "      <td>2.0</td>\n",
       "      <td>2.0</td>\n",
       "      <td>Vermelho</td>\n",
       "      <td>PB</td>\n",
       "      <td>1.0</td>\n",
       "      <td>1.0</td>\n",
       "      <td>2</td>\n",
       "      <td>7156.54</td>\n",
       "      <td>01/10/2017</td>\n",
       "    </tr>\n",
       "    <tr>\n",
       "      <th>2</th>\n",
       "      <td>Bicicletas</td>\n",
       "      <td>2.0</td>\n",
       "      <td>3.0</td>\n",
       "      <td>Preto</td>\n",
       "      <td>RN</td>\n",
       "      <td>19.0</td>\n",
       "      <td>1.0</td>\n",
       "      <td>1</td>\n",
       "      <td>3578.27</td>\n",
       "      <td>01/12/2017</td>\n",
       "    </tr>\n",
       "    <tr>\n",
       "      <th>3</th>\n",
       "      <td>Bicicletas</td>\n",
       "      <td>2.0</td>\n",
       "      <td>2.0</td>\n",
       "      <td>Vermelho</td>\n",
       "      <td>MG</td>\n",
       "      <td>2.0</td>\n",
       "      <td>2.0</td>\n",
       "      <td>1</td>\n",
       "      <td>3578.27</td>\n",
       "      <td>01/07/2017</td>\n",
       "    </tr>\n",
       "    <tr>\n",
       "      <th>4</th>\n",
       "      <td>Bicicletas</td>\n",
       "      <td>1.0</td>\n",
       "      <td>1.0</td>\n",
       "      <td>Prata</td>\n",
       "      <td>SP</td>\n",
       "      <td>20.0</td>\n",
       "      <td>2.0</td>\n",
       "      <td>1</td>\n",
       "      <td>3578.27</td>\n",
       "      <td>01/07/2017</td>\n",
       "    </tr>\n",
       "  </tbody>\n",
       "</table>\n",
       "</div>"
      ],
      "text/plain": [
       "    Categoria  ID_Subcategoria  ID_Modelo       Cor  UF  ID_Cidade  ID_Regiao  \\\n",
       "0  Bicicletas              1.0        1.0     Prata  PB        1.0        1.0   \n",
       "1  Bicicletas              2.0        2.0  Vermelho  PB        1.0        1.0   \n",
       "2  Bicicletas              2.0        3.0     Preto  RN       19.0        1.0   \n",
       "3  Bicicletas              2.0        2.0  Vermelho  MG        2.0        2.0   \n",
       "4  Bicicletas              1.0        1.0     Prata  SP       20.0        2.0   \n",
       "\n",
       "   Quantidade Vendida  Total Venda  Data Venda  \n",
       "0                   2      6799.98  01/07/2017  \n",
       "1                   2      7156.54  01/10/2017  \n",
       "2                   1      3578.27  01/12/2017  \n",
       "3                   1      3578.27  01/07/2017  \n",
       "4                   1      3578.27  01/07/2017  "
      ]
     },
     "execution_count": 33,
     "metadata": {},
     "output_type": "execute_result"
    }
   ],
   "source": [
    "df_juntas.head()"
   ]
  },
  {
   "cell_type": "code",
   "execution_count": 34,
   "id": "4ccf6c59",
   "metadata": {},
   "outputs": [],
   "source": [
    "df_juntas = df_juntas.rename(columns={'ID_Subcategoria': 'id_subcategoria'})"
   ]
  },
  {
   "cell_type": "code",
   "execution_count": 35,
   "id": "0b53ba97",
   "metadata": {},
   "outputs": [],
   "source": [
    "df_juntas = df_juntas.rename(columns={\n",
    "    'ID_Subcategoria': 'id_subcategoria',\n",
    "    'Categoria': 'categoria',\n",
    "    'ID_Modelo': 'id_modelo',\n",
    "    'Cor':'cor',\n",
    "    'UF':'uf',\n",
    "    'ID_Cidade':'id_cidade',\n",
    "    'ID_Regiao':'id_regiao',\n",
    "    'Quantidade Vendida':'qtd_vendida',\n",
    "    'Total Venda':'total_venda',\n",
    "    'Data Venda':'data_venda'\n",
    "    })"
   ]
  },
  {
   "cell_type": "code",
   "execution_count": 36,
   "id": "7a23a010",
   "metadata": {},
   "outputs": [
    {
     "data": {
      "text/html": [
       "<div>\n",
       "<style scoped>\n",
       "    .dataframe tbody tr th:only-of-type {\n",
       "        vertical-align: middle;\n",
       "    }\n",
       "\n",
       "    .dataframe tbody tr th {\n",
       "        vertical-align: top;\n",
       "    }\n",
       "\n",
       "    .dataframe thead th {\n",
       "        text-align: right;\n",
       "    }\n",
       "</style>\n",
       "<table border=\"1\" class=\"dataframe\">\n",
       "  <thead>\n",
       "    <tr style=\"text-align: right;\">\n",
       "      <th></th>\n",
       "      <th>categoria</th>\n",
       "      <th>id_subcategoria</th>\n",
       "      <th>id_modelo</th>\n",
       "      <th>cor</th>\n",
       "      <th>uf</th>\n",
       "      <th>id_cidade</th>\n",
       "      <th>id_regiao</th>\n",
       "      <th>qtd_vendida</th>\n",
       "      <th>total_venda</th>\n",
       "      <th>data_venda</th>\n",
       "    </tr>\n",
       "  </thead>\n",
       "  <tbody>\n",
       "    <tr>\n",
       "      <th>0</th>\n",
       "      <td>Bicicletas</td>\n",
       "      <td>1.0</td>\n",
       "      <td>1.0</td>\n",
       "      <td>Prata</td>\n",
       "      <td>PB</td>\n",
       "      <td>1.0</td>\n",
       "      <td>1.0</td>\n",
       "      <td>2</td>\n",
       "      <td>6799.98</td>\n",
       "      <td>01/07/2017</td>\n",
       "    </tr>\n",
       "    <tr>\n",
       "      <th>1</th>\n",
       "      <td>Bicicletas</td>\n",
       "      <td>2.0</td>\n",
       "      <td>2.0</td>\n",
       "      <td>Vermelho</td>\n",
       "      <td>PB</td>\n",
       "      <td>1.0</td>\n",
       "      <td>1.0</td>\n",
       "      <td>2</td>\n",
       "      <td>7156.54</td>\n",
       "      <td>01/10/2017</td>\n",
       "    </tr>\n",
       "    <tr>\n",
       "      <th>2</th>\n",
       "      <td>Bicicletas</td>\n",
       "      <td>2.0</td>\n",
       "      <td>3.0</td>\n",
       "      <td>Preto</td>\n",
       "      <td>RN</td>\n",
       "      <td>19.0</td>\n",
       "      <td>1.0</td>\n",
       "      <td>1</td>\n",
       "      <td>3578.27</td>\n",
       "      <td>01/12/2017</td>\n",
       "    </tr>\n",
       "    <tr>\n",
       "      <th>3</th>\n",
       "      <td>Bicicletas</td>\n",
       "      <td>2.0</td>\n",
       "      <td>2.0</td>\n",
       "      <td>Vermelho</td>\n",
       "      <td>MG</td>\n",
       "      <td>2.0</td>\n",
       "      <td>2.0</td>\n",
       "      <td>1</td>\n",
       "      <td>3578.27</td>\n",
       "      <td>01/07/2017</td>\n",
       "    </tr>\n",
       "    <tr>\n",
       "      <th>4</th>\n",
       "      <td>Bicicletas</td>\n",
       "      <td>1.0</td>\n",
       "      <td>1.0</td>\n",
       "      <td>Prata</td>\n",
       "      <td>SP</td>\n",
       "      <td>20.0</td>\n",
       "      <td>2.0</td>\n",
       "      <td>1</td>\n",
       "      <td>3578.27</td>\n",
       "      <td>01/07/2017</td>\n",
       "    </tr>\n",
       "  </tbody>\n",
       "</table>\n",
       "</div>"
      ],
      "text/plain": [
       "    categoria  id_subcategoria  id_modelo       cor  uf  id_cidade  id_regiao  \\\n",
       "0  Bicicletas              1.0        1.0     Prata  PB        1.0        1.0   \n",
       "1  Bicicletas              2.0        2.0  Vermelho  PB        1.0        1.0   \n",
       "2  Bicicletas              2.0        3.0     Preto  RN       19.0        1.0   \n",
       "3  Bicicletas              2.0        2.0  Vermelho  MG        2.0        2.0   \n",
       "4  Bicicletas              1.0        1.0     Prata  SP       20.0        2.0   \n",
       "\n",
       "   qtd_vendida  total_venda  data_venda  \n",
       "0            2      6799.98  01/07/2017  \n",
       "1            2      7156.54  01/10/2017  \n",
       "2            1      3578.27  01/12/2017  \n",
       "3            1      3578.27  01/07/2017  \n",
       "4            1      3578.27  01/07/2017  "
      ]
     },
     "execution_count": 36,
     "metadata": {},
     "output_type": "execute_result"
    }
   ],
   "source": [
    "df_juntas.head()"
   ]
  },
  {
   "cell_type": "code",
   "execution_count": 37,
   "id": "8d8f1e90",
   "metadata": {},
   "outputs": [
    {
     "name": "stdout",
     "output_type": "stream",
     "text": [
      "<class 'pandas.core.frame.DataFrame'>\n",
      "RangeIndex: 1000 entries, 0 to 999\n",
      "Data columns (total 10 columns):\n",
      " #   Column           Non-Null Count  Dtype  \n",
      "---  ------           --------------  -----  \n",
      " 0   categoria        1000 non-null   object \n",
      " 1   id_subcategoria  1000 non-null   float64\n",
      " 2   id_modelo        1000 non-null   float64\n",
      " 3   cor              764 non-null    object \n",
      " 4   uf               1000 non-null   object \n",
      " 5   id_cidade        1000 non-null   float64\n",
      " 6   id_regiao        1000 non-null   float64\n",
      " 7   qtd_vendida      1000 non-null   int64  \n",
      " 8   total_venda      1000 non-null   float64\n",
      " 9   data_venda       1000 non-null   object \n",
      "dtypes: float64(5), int64(1), object(4)\n",
      "memory usage: 78.3+ KB\n"
     ]
    }
   ],
   "source": [
    "df_juntas.info()"
   ]
  },
  {
   "cell_type": "markdown",
   "id": "93115ae8",
   "metadata": {},
   "source": [
    "### Tradando os nomes dos Excel:"
   ]
  },
  {
   "cell_type": "code",
   "execution_count": 38,
   "id": "1da95825",
   "metadata": {},
   "outputs": [
    {
     "data": {
      "text/html": [
       "<div>\n",
       "<style scoped>\n",
       "    .dataframe tbody tr th:only-of-type {\n",
       "        vertical-align: middle;\n",
       "    }\n",
       "\n",
       "    .dataframe tbody tr th {\n",
       "        vertical-align: top;\n",
       "    }\n",
       "\n",
       "    .dataframe thead th {\n",
       "        text-align: right;\n",
       "    }\n",
       "</style>\n",
       "<table border=\"1\" class=\"dataframe\">\n",
       "  <thead>\n",
       "    <tr style=\"text-align: right;\">\n",
       "      <th></th>\n",
       "      <th>ID</th>\n",
       "      <th>Região</th>\n",
       "    </tr>\n",
       "  </thead>\n",
       "  <tbody>\n",
       "    <tr>\n",
       "      <th>0</th>\n",
       "      <td>1</td>\n",
       "      <td>Nordeste</td>\n",
       "    </tr>\n",
       "    <tr>\n",
       "      <th>1</th>\n",
       "      <td>2</td>\n",
       "      <td>Sudeste</td>\n",
       "    </tr>\n",
       "    <tr>\n",
       "      <th>2</th>\n",
       "      <td>3</td>\n",
       "      <td>Norte</td>\n",
       "    </tr>\n",
       "    <tr>\n",
       "      <th>3</th>\n",
       "      <td>4</td>\n",
       "      <td>Centro-Oeste</td>\n",
       "    </tr>\n",
       "    <tr>\n",
       "      <th>4</th>\n",
       "      <td>5</td>\n",
       "      <td>Sul</td>\n",
       "    </tr>\n",
       "  </tbody>\n",
       "</table>\n",
       "</div>"
      ],
      "text/plain": [
       "   ID        Região\n",
       "0   1      Nordeste\n",
       "1   2       Sudeste\n",
       "2   3         Norte\n",
       "3   4  Centro-Oeste\n",
       "4   5           Sul"
      ]
     },
     "execution_count": 38,
     "metadata": {},
     "output_type": "execute_result"
    }
   ],
   "source": [
    "df_regiao"
   ]
  },
  {
   "cell_type": "code",
   "execution_count": 39,
   "id": "775eee43",
   "metadata": {},
   "outputs": [],
   "source": [
    "df_regiao = df_regiao.rename(columns={\n",
    "    'ID': 'id_regiao',\n",
    "    'Região': 'regiao'\n",
    "})"
   ]
  },
  {
   "cell_type": "code",
   "execution_count": 40,
   "id": "883713e7",
   "metadata": {},
   "outputs": [
    {
     "data": {
      "text/html": [
       "<div>\n",
       "<style scoped>\n",
       "    .dataframe tbody tr th:only-of-type {\n",
       "        vertical-align: middle;\n",
       "    }\n",
       "\n",
       "    .dataframe tbody tr th {\n",
       "        vertical-align: top;\n",
       "    }\n",
       "\n",
       "    .dataframe thead th {\n",
       "        text-align: right;\n",
       "    }\n",
       "</style>\n",
       "<table border=\"1\" class=\"dataframe\">\n",
       "  <thead>\n",
       "    <tr style=\"text-align: right;\">\n",
       "      <th></th>\n",
       "      <th>id_regiao</th>\n",
       "      <th>regiao</th>\n",
       "    </tr>\n",
       "  </thead>\n",
       "  <tbody>\n",
       "    <tr>\n",
       "      <th>0</th>\n",
       "      <td>1</td>\n",
       "      <td>Nordeste</td>\n",
       "    </tr>\n",
       "    <tr>\n",
       "      <th>1</th>\n",
       "      <td>2</td>\n",
       "      <td>Sudeste</td>\n",
       "    </tr>\n",
       "    <tr>\n",
       "      <th>2</th>\n",
       "      <td>3</td>\n",
       "      <td>Norte</td>\n",
       "    </tr>\n",
       "    <tr>\n",
       "      <th>3</th>\n",
       "      <td>4</td>\n",
       "      <td>Centro-Oeste</td>\n",
       "    </tr>\n",
       "    <tr>\n",
       "      <th>4</th>\n",
       "      <td>5</td>\n",
       "      <td>Sul</td>\n",
       "    </tr>\n",
       "  </tbody>\n",
       "</table>\n",
       "</div>"
      ],
      "text/plain": [
       "   id_regiao        regiao\n",
       "0          1      Nordeste\n",
       "1          2       Sudeste\n",
       "2          3         Norte\n",
       "3          4  Centro-Oeste\n",
       "4          5           Sul"
      ]
     },
     "execution_count": 40,
     "metadata": {},
     "output_type": "execute_result"
    }
   ],
   "source": [
    "df_regiao"
   ]
  },
  {
   "cell_type": "code",
   "execution_count": 41,
   "id": "19b474ba",
   "metadata": {},
   "outputs": [
    {
     "data": {
      "text/html": [
       "<div>\n",
       "<style scoped>\n",
       "    .dataframe tbody tr th:only-of-type {\n",
       "        vertical-align: middle;\n",
       "    }\n",
       "\n",
       "    .dataframe tbody tr th {\n",
       "        vertical-align: top;\n",
       "    }\n",
       "\n",
       "    .dataframe thead th {\n",
       "        text-align: right;\n",
       "    }\n",
       "</style>\n",
       "<table border=\"1\" class=\"dataframe\">\n",
       "  <thead>\n",
       "    <tr style=\"text-align: right;\">\n",
       "      <th></th>\n",
       "      <th>Estado</th>\n",
       "      <th>Sigla</th>\n",
       "    </tr>\n",
       "  </thead>\n",
       "  <tbody>\n",
       "    <tr>\n",
       "      <th>0</th>\n",
       "      <td>Paraíba</td>\n",
       "      <td>PB</td>\n",
       "    </tr>\n",
       "    <tr>\n",
       "      <th>1</th>\n",
       "      <td>Minas Gerais</td>\n",
       "      <td>MG</td>\n",
       "    </tr>\n",
       "    <tr>\n",
       "      <th>2</th>\n",
       "      <td>Alagoas</td>\n",
       "      <td>AL</td>\n",
       "    </tr>\n",
       "    <tr>\n",
       "      <th>3</th>\n",
       "      <td>Ceará</td>\n",
       "      <td>CE</td>\n",
       "    </tr>\n",
       "    <tr>\n",
       "      <th>4</th>\n",
       "      <td>Rio Grande do Norte</td>\n",
       "      <td>RN</td>\n",
       "    </tr>\n",
       "  </tbody>\n",
       "</table>\n",
       "</div>"
      ],
      "text/plain": [
       "                Estado Sigla\n",
       "0              Paraíba    PB\n",
       "1         Minas Gerais    MG\n",
       "2              Alagoas    AL\n",
       "3                Ceará    CE\n",
       "4  Rio Grande do Norte    RN"
      ]
     },
     "execution_count": 41,
     "metadata": {},
     "output_type": "execute_result"
    }
   ],
   "source": [
    "df_estado.head()"
   ]
  },
  {
   "cell_type": "code",
   "execution_count": 42,
   "id": "efd7495b",
   "metadata": {},
   "outputs": [],
   "source": [
    "df_estado = df_estado.rename(columns={\n",
    "    'Estado': 'estado',\n",
    "    'Sigla': 'uf'\n",
    "})"
   ]
  },
  {
   "cell_type": "code",
   "execution_count": 43,
   "id": "16ecfeda",
   "metadata": {},
   "outputs": [
    {
     "data": {
      "text/html": [
       "<div>\n",
       "<style scoped>\n",
       "    .dataframe tbody tr th:only-of-type {\n",
       "        vertical-align: middle;\n",
       "    }\n",
       "\n",
       "    .dataframe tbody tr th {\n",
       "        vertical-align: top;\n",
       "    }\n",
       "\n",
       "    .dataframe thead th {\n",
       "        text-align: right;\n",
       "    }\n",
       "</style>\n",
       "<table border=\"1\" class=\"dataframe\">\n",
       "  <thead>\n",
       "    <tr style=\"text-align: right;\">\n",
       "      <th></th>\n",
       "      <th>estado</th>\n",
       "      <th>uf</th>\n",
       "    </tr>\n",
       "  </thead>\n",
       "  <tbody>\n",
       "    <tr>\n",
       "      <th>0</th>\n",
       "      <td>Paraíba</td>\n",
       "      <td>PB</td>\n",
       "    </tr>\n",
       "    <tr>\n",
       "      <th>1</th>\n",
       "      <td>Minas Gerais</td>\n",
       "      <td>MG</td>\n",
       "    </tr>\n",
       "    <tr>\n",
       "      <th>2</th>\n",
       "      <td>Alagoas</td>\n",
       "      <td>AL</td>\n",
       "    </tr>\n",
       "    <tr>\n",
       "      <th>3</th>\n",
       "      <td>Ceará</td>\n",
       "      <td>CE</td>\n",
       "    </tr>\n",
       "    <tr>\n",
       "      <th>4</th>\n",
       "      <td>Rio Grande do Norte</td>\n",
       "      <td>RN</td>\n",
       "    </tr>\n",
       "  </tbody>\n",
       "</table>\n",
       "</div>"
      ],
      "text/plain": [
       "                estado  uf\n",
       "0              Paraíba  PB\n",
       "1         Minas Gerais  MG\n",
       "2              Alagoas  AL\n",
       "3                Ceará  CE\n",
       "4  Rio Grande do Norte  RN"
      ]
     },
     "execution_count": 43,
     "metadata": {},
     "output_type": "execute_result"
    }
   ],
   "source": [
    "df_estado.head()"
   ]
  },
  {
   "cell_type": "code",
   "execution_count": 44,
   "id": "06e1f55e",
   "metadata": {},
   "outputs": [
    {
     "data": {
      "text/html": [
       "<div>\n",
       "<style scoped>\n",
       "    .dataframe tbody tr th:only-of-type {\n",
       "        vertical-align: middle;\n",
       "    }\n",
       "\n",
       "    .dataframe tbody tr th {\n",
       "        vertical-align: top;\n",
       "    }\n",
       "\n",
       "    .dataframe thead th {\n",
       "        text-align: right;\n",
       "    }\n",
       "</style>\n",
       "<table border=\"1\" class=\"dataframe\">\n",
       "  <thead>\n",
       "    <tr style=\"text-align: right;\">\n",
       "      <th></th>\n",
       "      <th>ID</th>\n",
       "      <th>Cidade</th>\n",
       "    </tr>\n",
       "  </thead>\n",
       "  <tbody>\n",
       "    <tr>\n",
       "      <th>0</th>\n",
       "      <td>1</td>\n",
       "      <td>Passagem</td>\n",
       "    </tr>\n",
       "    <tr>\n",
       "      <th>1</th>\n",
       "      <td>2</td>\n",
       "      <td>Córrego Fundo</td>\n",
       "    </tr>\n",
       "    <tr>\n",
       "      <th>2</th>\n",
       "      <td>3</td>\n",
       "      <td>Quebrangulo</td>\n",
       "    </tr>\n",
       "    <tr>\n",
       "      <th>3</th>\n",
       "      <td>4</td>\n",
       "      <td>Varjota</td>\n",
       "    </tr>\n",
       "    <tr>\n",
       "      <th>4</th>\n",
       "      <td>5</td>\n",
       "      <td>Jucurutu</td>\n",
       "    </tr>\n",
       "  </tbody>\n",
       "</table>\n",
       "</div>"
      ],
      "text/plain": [
       "   ID         Cidade\n",
       "0   1       Passagem\n",
       "1   2  Córrego Fundo\n",
       "2   3    Quebrangulo\n",
       "3   4        Varjota\n",
       "4   5       Jucurutu"
      ]
     },
     "execution_count": 44,
     "metadata": {},
     "output_type": "execute_result"
    }
   ],
   "source": [
    "df_cidade.head()"
   ]
  },
  {
   "cell_type": "code",
   "execution_count": 45,
   "id": "b3c1bf1c",
   "metadata": {},
   "outputs": [],
   "source": [
    "df_cidade = df_cidade.rename(columns={\n",
    "    'ID': 'id_cidade',\n",
    "    'Cidade': 'cidade'\n",
    "})"
   ]
  },
  {
   "cell_type": "code",
   "execution_count": 46,
   "id": "f4787798",
   "metadata": {},
   "outputs": [
    {
     "data": {
      "text/html": [
       "<div>\n",
       "<style scoped>\n",
       "    .dataframe tbody tr th:only-of-type {\n",
       "        vertical-align: middle;\n",
       "    }\n",
       "\n",
       "    .dataframe tbody tr th {\n",
       "        vertical-align: top;\n",
       "    }\n",
       "\n",
       "    .dataframe thead th {\n",
       "        text-align: right;\n",
       "    }\n",
       "</style>\n",
       "<table border=\"1\" class=\"dataframe\">\n",
       "  <thead>\n",
       "    <tr style=\"text-align: right;\">\n",
       "      <th></th>\n",
       "      <th>id_cidade</th>\n",
       "      <th>cidade</th>\n",
       "    </tr>\n",
       "  </thead>\n",
       "  <tbody>\n",
       "    <tr>\n",
       "      <th>0</th>\n",
       "      <td>1</td>\n",
       "      <td>Passagem</td>\n",
       "    </tr>\n",
       "    <tr>\n",
       "      <th>1</th>\n",
       "      <td>2</td>\n",
       "      <td>Córrego Fundo</td>\n",
       "    </tr>\n",
       "    <tr>\n",
       "      <th>2</th>\n",
       "      <td>3</td>\n",
       "      <td>Quebrangulo</td>\n",
       "    </tr>\n",
       "    <tr>\n",
       "      <th>3</th>\n",
       "      <td>4</td>\n",
       "      <td>Varjota</td>\n",
       "    </tr>\n",
       "    <tr>\n",
       "      <th>4</th>\n",
       "      <td>5</td>\n",
       "      <td>Jucurutu</td>\n",
       "    </tr>\n",
       "  </tbody>\n",
       "</table>\n",
       "</div>"
      ],
      "text/plain": [
       "   id_cidade         cidade\n",
       "0          1       Passagem\n",
       "1          2  Córrego Fundo\n",
       "2          3    Quebrangulo\n",
       "3          4        Varjota\n",
       "4          5       Jucurutu"
      ]
     },
     "execution_count": 46,
     "metadata": {},
     "output_type": "execute_result"
    }
   ],
   "source": [
    "df_cidade.head()"
   ]
  },
  {
   "cell_type": "code",
   "execution_count": 47,
   "id": "c919e32e",
   "metadata": {},
   "outputs": [
    {
     "data": {
      "text/html": [
       "<div>\n",
       "<style scoped>\n",
       "    .dataframe tbody tr th:only-of-type {\n",
       "        vertical-align: middle;\n",
       "    }\n",
       "\n",
       "    .dataframe tbody tr th {\n",
       "        vertical-align: top;\n",
       "    }\n",
       "\n",
       "    .dataframe thead th {\n",
       "        text-align: right;\n",
       "    }\n",
       "</style>\n",
       "<table border=\"1\" class=\"dataframe\">\n",
       "  <thead>\n",
       "    <tr style=\"text-align: right;\">\n",
       "      <th></th>\n",
       "      <th>ID</th>\n",
       "      <th>Modelo</th>\n",
       "    </tr>\n",
       "  </thead>\n",
       "  <tbody>\n",
       "    <tr>\n",
       "      <th>0</th>\n",
       "      <td>1</td>\n",
       "      <td>Mountain-100</td>\n",
       "    </tr>\n",
       "    <tr>\n",
       "      <th>1</th>\n",
       "      <td>2</td>\n",
       "      <td>Road-150</td>\n",
       "    </tr>\n",
       "    <tr>\n",
       "      <th>2</th>\n",
       "      <td>3</td>\n",
       "      <td>Road-650</td>\n",
       "    </tr>\n",
       "    <tr>\n",
       "      <th>3</th>\n",
       "      <td>4</td>\n",
       "      <td>Mountain-200</td>\n",
       "    </tr>\n",
       "    <tr>\n",
       "      <th>4</th>\n",
       "      <td>5</td>\n",
       "      <td>Road-250</td>\n",
       "    </tr>\n",
       "  </tbody>\n",
       "</table>\n",
       "</div>"
      ],
      "text/plain": [
       "   ID        Modelo\n",
       "0   1  Mountain-100\n",
       "1   2      Road-150\n",
       "2   3      Road-650\n",
       "3   4  Mountain-200\n",
       "4   5      Road-250"
      ]
     },
     "execution_count": 47,
     "metadata": {},
     "output_type": "execute_result"
    }
   ],
   "source": [
    "df_modelo.head()"
   ]
  },
  {
   "cell_type": "code",
   "execution_count": 48,
   "id": "1d304a8a",
   "metadata": {},
   "outputs": [],
   "source": [
    "df_modelo = df_modelo.rename(columns={\n",
    "    'ID': 'id_modelo',\n",
    "    'Modelo': 'modelo'\n",
    "})"
   ]
  },
  {
   "cell_type": "code",
   "execution_count": 49,
   "id": "fdd69f02",
   "metadata": {},
   "outputs": [
    {
     "data": {
      "text/html": [
       "<div>\n",
       "<style scoped>\n",
       "    .dataframe tbody tr th:only-of-type {\n",
       "        vertical-align: middle;\n",
       "    }\n",
       "\n",
       "    .dataframe tbody tr th {\n",
       "        vertical-align: top;\n",
       "    }\n",
       "\n",
       "    .dataframe thead th {\n",
       "        text-align: right;\n",
       "    }\n",
       "</style>\n",
       "<table border=\"1\" class=\"dataframe\">\n",
       "  <thead>\n",
       "    <tr style=\"text-align: right;\">\n",
       "      <th></th>\n",
       "      <th>id_modelo</th>\n",
       "      <th>modelo</th>\n",
       "    </tr>\n",
       "  </thead>\n",
       "  <tbody>\n",
       "    <tr>\n",
       "      <th>0</th>\n",
       "      <td>1</td>\n",
       "      <td>Mountain-100</td>\n",
       "    </tr>\n",
       "    <tr>\n",
       "      <th>1</th>\n",
       "      <td>2</td>\n",
       "      <td>Road-150</td>\n",
       "    </tr>\n",
       "    <tr>\n",
       "      <th>2</th>\n",
       "      <td>3</td>\n",
       "      <td>Road-650</td>\n",
       "    </tr>\n",
       "    <tr>\n",
       "      <th>3</th>\n",
       "      <td>4</td>\n",
       "      <td>Mountain-200</td>\n",
       "    </tr>\n",
       "    <tr>\n",
       "      <th>4</th>\n",
       "      <td>5</td>\n",
       "      <td>Road-250</td>\n",
       "    </tr>\n",
       "  </tbody>\n",
       "</table>\n",
       "</div>"
      ],
      "text/plain": [
       "   id_modelo        modelo\n",
       "0          1  Mountain-100\n",
       "1          2      Road-150\n",
       "2          3      Road-650\n",
       "3          4  Mountain-200\n",
       "4          5      Road-250"
      ]
     },
     "execution_count": 49,
     "metadata": {},
     "output_type": "execute_result"
    }
   ],
   "source": [
    "df_modelo.head()"
   ]
  },
  {
   "cell_type": "code",
   "execution_count": 50,
   "id": "80e37e22",
   "metadata": {},
   "outputs": [
    {
     "data": {
      "text/html": [
       "<div>\n",
       "<style scoped>\n",
       "    .dataframe tbody tr th:only-of-type {\n",
       "        vertical-align: middle;\n",
       "    }\n",
       "\n",
       "    .dataframe tbody tr th {\n",
       "        vertical-align: top;\n",
       "    }\n",
       "\n",
       "    .dataframe thead th {\n",
       "        text-align: right;\n",
       "    }\n",
       "</style>\n",
       "<table border=\"1\" class=\"dataframe\">\n",
       "  <thead>\n",
       "    <tr style=\"text-align: right;\">\n",
       "      <th></th>\n",
       "      <th>ID</th>\n",
       "      <th>SubCategoria</th>\n",
       "    </tr>\n",
       "  </thead>\n",
       "  <tbody>\n",
       "    <tr>\n",
       "      <th>0</th>\n",
       "      <td>1</td>\n",
       "      <td>Bicicletas de montanha</td>\n",
       "    </tr>\n",
       "    <tr>\n",
       "      <th>1</th>\n",
       "      <td>2</td>\n",
       "      <td>Bicicletas de estrada</td>\n",
       "    </tr>\n",
       "    <tr>\n",
       "      <th>2</th>\n",
       "      <td>3</td>\n",
       "      <td>Bicicletários</td>\n",
       "    </tr>\n",
       "    <tr>\n",
       "      <th>3</th>\n",
       "      <td>4</td>\n",
       "      <td>Garrafas e Gaiolas</td>\n",
       "    </tr>\n",
       "    <tr>\n",
       "      <th>4</th>\n",
       "      <td>5</td>\n",
       "      <td>Pneus e Tubos</td>\n",
       "    </tr>\n",
       "  </tbody>\n",
       "</table>\n",
       "</div>"
      ],
      "text/plain": [
       "   ID            SubCategoria\n",
       "0   1  Bicicletas de montanha\n",
       "1   2   Bicicletas de estrada\n",
       "2   3           Bicicletários\n",
       "3   4      Garrafas e Gaiolas\n",
       "4   5           Pneus e Tubos"
      ]
     },
     "execution_count": 50,
     "metadata": {},
     "output_type": "execute_result"
    }
   ],
   "source": [
    "df_subcategorias.head()"
   ]
  },
  {
   "cell_type": "code",
   "execution_count": 51,
   "id": "d443ad98",
   "metadata": {},
   "outputs": [],
   "source": [
    "df_subcategorias = df_subcategorias.rename(columns={\n",
    "    'ID': 'id_subcategoria',\n",
    "    'SubCategoria': 'subcategoria'\n",
    "})"
   ]
  },
  {
   "cell_type": "code",
   "execution_count": 52,
   "id": "068142e9",
   "metadata": {},
   "outputs": [
    {
     "data": {
      "text/html": [
       "<div>\n",
       "<style scoped>\n",
       "    .dataframe tbody tr th:only-of-type {\n",
       "        vertical-align: middle;\n",
       "    }\n",
       "\n",
       "    .dataframe tbody tr th {\n",
       "        vertical-align: top;\n",
       "    }\n",
       "\n",
       "    .dataframe thead th {\n",
       "        text-align: right;\n",
       "    }\n",
       "</style>\n",
       "<table border=\"1\" class=\"dataframe\">\n",
       "  <thead>\n",
       "    <tr style=\"text-align: right;\">\n",
       "      <th></th>\n",
       "      <th>id_subcategoria</th>\n",
       "      <th>subcategoria</th>\n",
       "    </tr>\n",
       "  </thead>\n",
       "  <tbody>\n",
       "    <tr>\n",
       "      <th>0</th>\n",
       "      <td>1</td>\n",
       "      <td>Bicicletas de montanha</td>\n",
       "    </tr>\n",
       "    <tr>\n",
       "      <th>1</th>\n",
       "      <td>2</td>\n",
       "      <td>Bicicletas de estrada</td>\n",
       "    </tr>\n",
       "    <tr>\n",
       "      <th>2</th>\n",
       "      <td>3</td>\n",
       "      <td>Bicicletários</td>\n",
       "    </tr>\n",
       "    <tr>\n",
       "      <th>3</th>\n",
       "      <td>4</td>\n",
       "      <td>Garrafas e Gaiolas</td>\n",
       "    </tr>\n",
       "    <tr>\n",
       "      <th>4</th>\n",
       "      <td>5</td>\n",
       "      <td>Pneus e Tubos</td>\n",
       "    </tr>\n",
       "  </tbody>\n",
       "</table>\n",
       "</div>"
      ],
      "text/plain": [
       "   id_subcategoria            subcategoria\n",
       "0                1  Bicicletas de montanha\n",
       "1                2   Bicicletas de estrada\n",
       "2                3           Bicicletários\n",
       "3                4      Garrafas e Gaiolas\n",
       "4                5           Pneus e Tubos"
      ]
     },
     "execution_count": 52,
     "metadata": {},
     "output_type": "execute_result"
    }
   ],
   "source": [
    "df_subcategorias.head()"
   ]
  },
  {
   "cell_type": "markdown",
   "id": "1de7c65e",
   "metadata": {},
   "source": [
    "### Tratando os dados nulos"
   ]
  },
  {
   "cell_type": "code",
   "execution_count": 53,
   "id": "5fc056df",
   "metadata": {},
   "outputs": [
    {
     "data": {
      "text/plain": [
       "categoria          False\n",
       "id_subcategoria    False\n",
       "id_modelo          False\n",
       "cor                 True\n",
       "uf                 False\n",
       "id_cidade          False\n",
       "id_regiao          False\n",
       "qtd_vendida        False\n",
       "total_venda        False\n",
       "data_venda         False\n",
       "dtype: bool"
      ]
     },
     "execution_count": 53,
     "metadata": {},
     "output_type": "execute_result"
    }
   ],
   "source": [
    "df_juntas.isna().any()"
   ]
  },
  {
   "cell_type": "code",
   "execution_count": 54,
   "id": "66b8063f",
   "metadata": {},
   "outputs": [
    {
     "data": {
      "text/html": [
       "<div>\n",
       "<style scoped>\n",
       "    .dataframe tbody tr th:only-of-type {\n",
       "        vertical-align: middle;\n",
       "    }\n",
       "\n",
       "    .dataframe tbody tr th {\n",
       "        vertical-align: top;\n",
       "    }\n",
       "\n",
       "    .dataframe thead th {\n",
       "        text-align: right;\n",
       "    }\n",
       "</style>\n",
       "<table border=\"1\" class=\"dataframe\">\n",
       "  <thead>\n",
       "    <tr style=\"text-align: right;\">\n",
       "      <th></th>\n",
       "      <th>categoria</th>\n",
       "      <th>id_subcategoria</th>\n",
       "      <th>id_modelo</th>\n",
       "      <th>cor</th>\n",
       "      <th>uf</th>\n",
       "      <th>id_cidade</th>\n",
       "      <th>id_regiao</th>\n",
       "      <th>qtd_vendida</th>\n",
       "      <th>total_venda</th>\n",
       "      <th>data_venda</th>\n",
       "    </tr>\n",
       "  </thead>\n",
       "  <tbody>\n",
       "    <tr>\n",
       "      <th>348</th>\n",
       "      <td>Acessórios</td>\n",
       "      <td>5.0</td>\n",
       "      <td>9.0</td>\n",
       "      <td>NaN</td>\n",
       "      <td>CE</td>\n",
       "      <td>4.0</td>\n",
       "      <td>1.0</td>\n",
       "      <td>1</td>\n",
       "      <td>3578.27</td>\n",
       "      <td>01/09/2019</td>\n",
       "    </tr>\n",
       "    <tr>\n",
       "      <th>354</th>\n",
       "      <td>Acessórios</td>\n",
       "      <td>4.0</td>\n",
       "      <td>13.0</td>\n",
       "      <td>NaN</td>\n",
       "      <td>RO</td>\n",
       "      <td>7.0</td>\n",
       "      <td>3.0</td>\n",
       "      <td>1</td>\n",
       "      <td>3374.99</td>\n",
       "      <td>01/10/2019</td>\n",
       "    </tr>\n",
       "    <tr>\n",
       "      <th>356</th>\n",
       "      <td>Acessórios</td>\n",
       "      <td>4.0</td>\n",
       "      <td>31.0</td>\n",
       "      <td>NaN</td>\n",
       "      <td>SP</td>\n",
       "      <td>9.0</td>\n",
       "      <td>2.0</td>\n",
       "      <td>1</td>\n",
       "      <td>3578.27</td>\n",
       "      <td>01/09/2019</td>\n",
       "    </tr>\n",
       "    <tr>\n",
       "      <th>365</th>\n",
       "      <td>Acessórios</td>\n",
       "      <td>4.0</td>\n",
       "      <td>8.0</td>\n",
       "      <td>NaN</td>\n",
       "      <td>MG</td>\n",
       "      <td>28.0</td>\n",
       "      <td>2.0</td>\n",
       "      <td>1</td>\n",
       "      <td>782.99</td>\n",
       "      <td>01/09/2019</td>\n",
       "    </tr>\n",
       "    <tr>\n",
       "      <th>370</th>\n",
       "      <td>Acessórios</td>\n",
       "      <td>5.0</td>\n",
       "      <td>15.0</td>\n",
       "      <td>NaN</td>\n",
       "      <td>MG</td>\n",
       "      <td>48.0</td>\n",
       "      <td>2.0</td>\n",
       "      <td>1</td>\n",
       "      <td>3578.27</td>\n",
       "      <td>01/08/2019</td>\n",
       "    </tr>\n",
       "    <tr>\n",
       "      <th>...</th>\n",
       "      <td>...</td>\n",
       "      <td>...</td>\n",
       "      <td>...</td>\n",
       "      <td>...</td>\n",
       "      <td>...</td>\n",
       "      <td>...</td>\n",
       "      <td>...</td>\n",
       "      <td>...</td>\n",
       "      <td>...</td>\n",
       "      <td>...</td>\n",
       "    </tr>\n",
       "    <tr>\n",
       "      <th>991</th>\n",
       "      <td>Acessórios</td>\n",
       "      <td>4.0</td>\n",
       "      <td>13.0</td>\n",
       "      <td>NaN</td>\n",
       "      <td>MS</td>\n",
       "      <td>523.0</td>\n",
       "      <td>4.0</td>\n",
       "      <td>1</td>\n",
       "      <td>2.29</td>\n",
       "      <td>01/04/2020</td>\n",
       "    </tr>\n",
       "    <tr>\n",
       "      <th>992</th>\n",
       "      <td>Acessórios</td>\n",
       "      <td>11.0</td>\n",
       "      <td>25.0</td>\n",
       "      <td>NaN</td>\n",
       "      <td>SP</td>\n",
       "      <td>526.0</td>\n",
       "      <td>2.0</td>\n",
       "      <td>1</td>\n",
       "      <td>32.60</td>\n",
       "      <td>01/04/2020</td>\n",
       "    </tr>\n",
       "    <tr>\n",
       "      <th>993</th>\n",
       "      <td>Acessórios</td>\n",
       "      <td>5.0</td>\n",
       "      <td>38.0</td>\n",
       "      <td>NaN</td>\n",
       "      <td>RN</td>\n",
       "      <td>527.0</td>\n",
       "      <td>1.0</td>\n",
       "      <td>1</td>\n",
       "      <td>3578.27</td>\n",
       "      <td>01/04/2020</td>\n",
       "    </tr>\n",
       "    <tr>\n",
       "      <th>994</th>\n",
       "      <td>Acessórios</td>\n",
       "      <td>11.0</td>\n",
       "      <td>25.0</td>\n",
       "      <td>NaN</td>\n",
       "      <td>MT</td>\n",
       "      <td>541.0</td>\n",
       "      <td>4.0</td>\n",
       "      <td>1</td>\n",
       "      <td>3578.27</td>\n",
       "      <td>03/06/2020</td>\n",
       "    </tr>\n",
       "    <tr>\n",
       "      <th>995</th>\n",
       "      <td>Acessórios</td>\n",
       "      <td>4.0</td>\n",
       "      <td>8.0</td>\n",
       "      <td>NaN</td>\n",
       "      <td>RS</td>\n",
       "      <td>542.0</td>\n",
       "      <td>5.0</td>\n",
       "      <td>1</td>\n",
       "      <td>32.60</td>\n",
       "      <td>01/04/2020</td>\n",
       "    </tr>\n",
       "  </tbody>\n",
       "</table>\n",
       "<p>236 rows × 10 columns</p>\n",
       "</div>"
      ],
      "text/plain": [
       "      categoria  id_subcategoria  id_modelo  cor  uf  id_cidade  id_regiao  \\\n",
       "348  Acessórios              5.0        9.0  NaN  CE        4.0        1.0   \n",
       "354  Acessórios              4.0       13.0  NaN  RO        7.0        3.0   \n",
       "356  Acessórios              4.0       31.0  NaN  SP        9.0        2.0   \n",
       "365  Acessórios              4.0        8.0  NaN  MG       28.0        2.0   \n",
       "370  Acessórios              5.0       15.0  NaN  MG       48.0        2.0   \n",
       "..          ...              ...        ...  ...  ..        ...        ...   \n",
       "991  Acessórios              4.0       13.0  NaN  MS      523.0        4.0   \n",
       "992  Acessórios             11.0       25.0  NaN  SP      526.0        2.0   \n",
       "993  Acessórios              5.0       38.0  NaN  RN      527.0        1.0   \n",
       "994  Acessórios             11.0       25.0  NaN  MT      541.0        4.0   \n",
       "995  Acessórios              4.0        8.0  NaN  RS      542.0        5.0   \n",
       "\n",
       "     qtd_vendida  total_venda  data_venda  \n",
       "348            1      3578.27  01/09/2019  \n",
       "354            1      3374.99  01/10/2019  \n",
       "356            1      3578.27  01/09/2019  \n",
       "365            1       782.99  01/09/2019  \n",
       "370            1      3578.27  01/08/2019  \n",
       "..           ...          ...         ...  \n",
       "991            1         2.29  01/04/2020  \n",
       "992            1        32.60  01/04/2020  \n",
       "993            1      3578.27  01/04/2020  \n",
       "994            1      3578.27  03/06/2020  \n",
       "995            1        32.60  01/04/2020  \n",
       "\n",
       "[236 rows x 10 columns]"
      ]
     },
     "execution_count": 54,
     "metadata": {},
     "output_type": "execute_result"
    }
   ],
   "source": [
    "df_juntas[df_juntas.isnull().any(axis=1)]"
   ]
  },
  {
   "cell_type": "code",
   "execution_count": 55,
   "id": "07055fbf",
   "metadata": {},
   "outputs": [
    {
     "data": {
      "text/plain": [
       "categoria\n",
       "Acessórios     233\n",
       "Componentes      3\n",
       "Name: count, dtype: int64"
      ]
     },
     "execution_count": 55,
     "metadata": {},
     "output_type": "execute_result"
    }
   ],
   "source": [
    "df_juntas[df_juntas['cor'].isnull()]['categoria'].value_counts()\n"
   ]
  },
  {
   "cell_type": "code",
   "execution_count": 56,
   "id": "364f6b39",
   "metadata": {},
   "outputs": [],
   "source": [
    "df_juntas['cor'] = df_juntas['cor'].fillna('Sem cor')"
   ]
  },
  {
   "cell_type": "code",
   "execution_count": 57,
   "id": "73e2bc81",
   "metadata": {},
   "outputs": [
    {
     "name": "stdout",
     "output_type": "stream",
     "text": [
      "<class 'pandas.core.frame.DataFrame'>\n",
      "RangeIndex: 1000 entries, 0 to 999\n",
      "Data columns (total 10 columns):\n",
      " #   Column           Non-Null Count  Dtype  \n",
      "---  ------           --------------  -----  \n",
      " 0   categoria        1000 non-null   object \n",
      " 1   id_subcategoria  1000 non-null   float64\n",
      " 2   id_modelo        1000 non-null   float64\n",
      " 3   cor              1000 non-null   object \n",
      " 4   uf               1000 non-null   object \n",
      " 5   id_cidade        1000 non-null   float64\n",
      " 6   id_regiao        1000 non-null   float64\n",
      " 7   qtd_vendida      1000 non-null   int64  \n",
      " 8   total_venda      1000 non-null   float64\n",
      " 9   data_venda       1000 non-null   object \n",
      "dtypes: float64(5), int64(1), object(4)\n",
      "memory usage: 78.3+ KB\n"
     ]
    }
   ],
   "source": [
    "df_juntas.info()"
   ]
  },
  {
   "cell_type": "markdown",
   "id": "b139f355",
   "metadata": {},
   "source": [
    "### Agora mudando os tipos das colunas:"
   ]
  },
  {
   "cell_type": "code",
   "execution_count": 58,
   "id": "dce3f8ac",
   "metadata": {},
   "outputs": [],
   "source": [
    "# Começando pela data\n",
    "df_juntas['data_venda'] = pd.to_datetime(df_juntas['data_venda'])"
   ]
  },
  {
   "cell_type": "code",
   "execution_count": 59,
   "id": "33cda10e",
   "metadata": {},
   "outputs": [],
   "source": [
    "#df_juntas['id_subcategoria'] = pd.(df_juntas['id_subcategoria'])"
   ]
  },
  {
   "cell_type": "code",
   "execution_count": 60,
   "id": "c2f254a6",
   "metadata": {},
   "outputs": [
    {
     "name": "stdout",
     "output_type": "stream",
     "text": [
      "A coluna 'id_modelo' tem valores quebrados? False\n"
     ]
    }
   ],
   "source": [
    "# Verifica se algum valor tem parte decimal diferente de zero\n",
    "tem_quebrado = df_juntas['id_modelo'].apply(lambda x: (x % 1) != 0).any()\n",
    "\n",
    "print(f\"A coluna 'id_modelo' tem valores quebrados? {tem_quebrado}\")\n"
   ]
  },
  {
   "cell_type": "code",
   "execution_count": 61,
   "id": "0b05e990",
   "metadata": {},
   "outputs": [
    {
     "name": "stdout",
     "output_type": "stream",
     "text": [
      "<class 'pandas.core.frame.DataFrame'>\n",
      "RangeIndex: 1000 entries, 0 to 999\n",
      "Data columns (total 10 columns):\n",
      " #   Column           Non-Null Count  Dtype         \n",
      "---  ------           --------------  -----         \n",
      " 0   categoria        1000 non-null   object        \n",
      " 1   id_subcategoria  1000 non-null   float64       \n",
      " 2   id_modelo        1000 non-null   float64       \n",
      " 3   cor              1000 non-null   object        \n",
      " 4   uf               1000 non-null   object        \n",
      " 5   id_cidade        1000 non-null   float64       \n",
      " 6   id_regiao        1000 non-null   float64       \n",
      " 7   qtd_vendida      1000 non-null   int64         \n",
      " 8   total_venda      1000 non-null   float64       \n",
      " 9   data_venda       1000 non-null   datetime64[ns]\n",
      "dtypes: datetime64[ns](1), float64(5), int64(1), object(3)\n",
      "memory usage: 78.3+ KB\n"
     ]
    }
   ],
   "source": [
    "df_juntas.info()"
   ]
  }
 ],
 "metadata": {
  "kernelspec": {
   "display_name": "Python 3",
   "language": "python",
   "name": "python3"
  },
  "language_info": {
   "codemirror_mode": {
    "name": "ipython",
    "version": 3
   },
   "file_extension": ".py",
   "mimetype": "text/x-python",
   "name": "python",
   "nbconvert_exporter": "python",
   "pygments_lexer": "ipython3",
   "version": "3.13.2"
  }
 },
 "nbformat": 4,
 "nbformat_minor": 5
}
